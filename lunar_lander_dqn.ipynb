{
 "cells": [
  {
   "cell_type": "markdown",
   "metadata": {},
   "source": [
    "## **Dependencies**"
   ]
  },
  {
   "cell_type": "code",
   "execution_count": null,
   "metadata": {},
   "outputs": [],
   "source": [
    "import gymnasium as gym\n",
    "from src.dqn import run_dqn\n",
    "from src.utils import plot_rewards\n",
    "from src.utils import plot_epsilon\n",
    "from src.utils import display_model\n",
    "import pandas as pd"
   ]
  },
  {
   "cell_type": "markdown",
   "metadata": {},
   "source": [
    "# **Lunar Lander Reinforcement Learning**\n",
    "\n",
    "Dieses Projekt befasst sich mit der Implementierung und Anwendung eines Deep Q-Networks (DQN) zur Steuerung eines Lunar Landers in der Gymnasium-Umgebung `LunarLander-v2`. Ziel des Projekts ist es, einen Agenten zu trainieren, der in der Lage ist, das Landefahrzeug sicher auf dem Mond zu landen, indem er optimale Aktionen basierend auf dem aktuellen Zustand der Umgebung auswählt.\n",
    "\n",
    "**Lunar Lander Enviroment:** \n",
    "- https://gymnasium.farama.org/environments/box2d/lunar_lander/\n",
    "\n",
    "In dieser Ausarbeitung wurde sich maßgeblich am \"Playing Atari with Deep Reinforcement Learning\" Paper von Volodymyr Mnih et al. orientiert. Im Folgenden sind die Resultate des Trainingsprozesses dargestellt.\n",
    "\n",
    "**Link zum \"Playing Atari with Deep Reinforcement Learning\" Paper:**\n",
    "- https://arxiv.org/pdf/1312.5602\n"
   ]
  },
  {
   "cell_type": "markdown",
   "metadata": {},
   "source": [
    "## **Train Agent**\n",
    "\n",
    "### **Ziel**\n",
    "\n",
    "Ein optimaler Zustand ist erreicht, sobald das Raumschiff sicher gelandet wurde und ein Gesamt-Reward (Score) von 200 erreicht wurde.\n",
    "\n",
    "### **Aktionen**\n",
    "\n",
    "Es stehen vier diskrete Aktionen zur Verfügung:\n",
    "\n",
    "- **0**: Nichts tun\n",
    "- **1**: Linken Steuerungstriebwerk zünden\n",
    "- **2**: Haupttriebwerk zünden\n",
    "- **3**: Rechten Steuerungstriebwerk zünden\n"
   ]
  },
  {
   "cell_type": "markdown",
   "metadata": {},
   "source": [
    "### **Run DQN**\n"
   ]
  },
  {
   "cell_type": "code",
   "execution_count": null,
   "metadata": {},
   "outputs": [],
   "source": [
    "scores = run_dqn()"
   ]
  },
  {
   "cell_type": "markdown",
   "metadata": {},
   "source": [
    "### **Training Reward**"
   ]
  },
  {
   "cell_type": "code",
   "execution_count": null,
   "metadata": {},
   "outputs": [],
   "source": [
    "df = pd.read_csv('data/logs/training_log.csv')\n",
    "episodes = df['Episode']\n",
    "scores = df['Score']\n",
    "epsilon = df['Epsilon']\n",
    "\n",
    "plot_rewards(episodes, scores)"
   ]
  },
  {
   "cell_type": "markdown",
   "metadata": {},
   "source": [
    "### **Epsilon Decay**"
   ]
  },
  {
   "cell_type": "code",
   "execution_count": null,
   "metadata": {},
   "outputs": [],
   "source": [
    "plot_epsilon(episodes, epsilon)"
   ]
  },
  {
   "cell_type": "markdown",
   "metadata": {},
   "source": [
    "### **Demo** \n",
    "\n",
    "10 Sample Trys in Enviroment"
   ]
  },
  {
   "cell_type": "code",
   "execution_count": null,
   "metadata": {},
   "outputs": [],
   "source": [
    "env = gym.make('LunarLander-v2', render_mode=\"human\")\n",
    "display_model(env, 'data/checkpoints/checkpoint_final.pth')\n",
    "env.close()"
   ]
  },
  {
   "cell_type": "markdown",
   "metadata": {},
   "source": [
    "#### **Demo Episode 100**\n",
    "\n",
    "![Lunar Lander GIF](data/images/ep_100.gif)"
   ]
  },
  {
   "cell_type": "markdown",
   "metadata": {},
   "source": [
    "### **Demo Final Model**\n",
    "\n",
    "![Lunar Lander GIF](data/images/final.gif)"
   ]
  }
 ],
 "metadata": {
  "kernelspec": {
   "display_name": "LakeEnv",
   "language": "python",
   "name": "python3"
  },
  "language_info": {
   "codemirror_mode": {
    "name": "ipython",
    "version": 3
   },
   "file_extension": ".py",
   "mimetype": "text/x-python",
   "name": "python",
   "nbconvert_exporter": "python",
   "pygments_lexer": "ipython3",
   "version": "3.8.19"
  }
 },
 "nbformat": 4,
 "nbformat_minor": 2
}
