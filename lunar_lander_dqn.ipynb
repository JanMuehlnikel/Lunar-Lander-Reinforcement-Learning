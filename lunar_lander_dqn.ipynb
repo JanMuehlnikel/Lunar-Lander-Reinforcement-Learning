{
 "cells": [
  {
   "cell_type": "code",
   "execution_count": 1,
   "metadata": {},
   "outputs": [],
   "source": [
    "import gymnasium as gym\n",
    "import numpy as np\n",
    "from src.dqn import QNetwork\n",
    "from src.dqn import run_dqn\n",
    "import torch\n",
    "import matplotlib.pyplot as plt"
   ]
  },
  {
   "cell_type": "markdown",
   "metadata": {},
   "source": [
    "## Train the Agent"
   ]
  },
  {
   "cell_type": "code",
   "execution_count": 2,
   "metadata": {},
   "outputs": [],
   "source": [
    "env = gym.make('LunarLander-v2', render_mode=\"human\")"
   ]
  },
  {
   "cell_type": "code",
   "execution_count": 3,
   "metadata": {},
   "outputs": [
    {
     "name": "stdout",
     "output_type": "stream",
     "text": [
      "Episode 100\tAverage Score: -164.89\tEpsilon: 0.61\n",
      "Episode 200\tAverage Score: -87.28\tEpsilon: 0.370\n",
      "Episode 292\tAverage Score: -32.43\tEpsilon: 0.23"
     ]
    }
   ],
   "source": [
    "scores = run_dqn()\n",
    "\n",
    "# Plot the scores\n",
    "plt.figure()\n",
    "plt.plot(np.arange(len(scores)), scores)\n",
    "plt.ylabel('Total Reward')\n",
    "plt.xlabel('Episode')\n",
    "plt.show()\n",
    "\n",
    "env.close()"
   ]
  },
  {
   "cell_type": "markdown",
   "metadata": {},
   "source": [
    "# Load Model"
   ]
  },
  {
   "cell_type": "code",
   "execution_count": null,
   "metadata": {},
   "outputs": [],
   "source": [
    "state_size = env.observation_space.shape[0]\n",
    "action_size = env.action_space.n\n",
    "\n",
    "model = QNetwork(state_size, action_size)\n",
    "model.load_state_dict(torch.load('data/checkpoints/checkpoint_final.pth'))\n",
    "model.eval()"
   ]
  },
  {
   "cell_type": "code",
   "execution_count": null,
   "metadata": {},
   "outputs": [],
   "source": [
    "def select_action(state):\n",
    "    state = torch.tensor(state, dtype=torch.float32).unsqueeze(0)  # Convert state to tensor\n",
    "    with torch.no_grad():\n",
    "        action_values = model(state)\n",
    "    return np.argmax(action_values.numpy())\n",
    "\n",
    "num_episodes = 10\n",
    "\n",
    "for episode in range(num_episodes):\n",
    "    state = env.reset()[0]  # Get the initial state\n",
    "    done = False\n",
    "    total_reward = 0\n",
    "    while not done:\n",
    "        env.render()  # Render the environment\n",
    "        action = select_action(state)  # Choose action\n",
    "        next_state, reward, done, _, _ = env.step(action)  # Take action\n",
    "        total_reward += reward \n",
    "        state = next_state  \n",
    "    print(f\"Episode {episode + 1}: Total Reward: {total_reward}\")\n",
    "\n",
    "env.close()"
   ]
  }
 ],
 "metadata": {
  "kernelspec": {
   "display_name": "LakeEnv",
   "language": "python",
   "name": "python3"
  },
  "language_info": {
   "codemirror_mode": {
    "name": "ipython",
    "version": 3
   },
   "file_extension": ".py",
   "mimetype": "text/x-python",
   "name": "python",
   "nbconvert_exporter": "python",
   "pygments_lexer": "ipython3",
   "version": "3.8.19"
  }
 },
 "nbformat": 4,
 "nbformat_minor": 2
}
